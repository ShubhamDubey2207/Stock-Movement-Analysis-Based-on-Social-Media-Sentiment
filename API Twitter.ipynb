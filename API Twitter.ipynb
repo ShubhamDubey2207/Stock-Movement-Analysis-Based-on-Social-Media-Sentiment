{
 "cells": [
  {
   "cell_type": "code",
   "execution_count": 1,
   "id": "7261dcaa-2180-491a-b809-647dc167ec93",
   "metadata": {},
   "outputs": [],
   "source": [
    "import requests\n",
    "import pandas as pd\n",
    "import re\n",
    "from textblob import TextBlob\n",
    "from sklearn.model_selection import train_test_split\n",
    "from sklearn.ensemble import RandomForestClassifier\n",
    "from sklearn.feature_extraction.text import CountVectorizer\n",
    "from sklearn.metrics import accuracy_score, classification_report"
   ]
  },
  {
   "cell_type": "code",
   "execution_count": 4,
   "id": "1531dd25-ffa6-4f2e-a113-2837ee9ac259",
   "metadata": {},
   "outputs": [
    {
     "name": "stdout",
     "output_type": "stream",
     "text": [
      "Failed to fetch Twitter data: Error: 429, {\"title\":\"Too Many Requests\",\"detail\":\"Too Many Requests\",\"type\":\"about:blank\",\"status\":429}\n",
      "Failed to fetch Telegram data: You must use \"async with\" if the event loop is running (i.e. you are inside an \"async def\")\n"
     ]
    }
   ],
   "source": [
    "# Bearer Token for API Authentication\n",
    "BEARER_TOKEN = \"AAAAAAAAAAAAAAAAAAAAAFOwxQEAAAAA1s16fd2jTmJD3TaXs%2FNXJahGpzw%3DFSfln4xn0wtCnn2SfSjlZEEZAtjRAyVPrv1c9dvoCUvAEuUBCN\"\n",
    "\n",
    "# Define a function to access API data\n",
    "def access_api_data(url, headers, params=None):\n",
    "    response = requests.get(url, headers=headers, params=params)\n",
    "    if response.status_code == 200:\n",
    "        return response.json()\n",
    "    else:\n",
    "        raise Exception(f\"Error: {response.status_code}, {response.text}\")\n",
    "\n",
    "# Example for Twitter API\n",
    "TWITTER_API_URL = \"https://api.twitter.com/2/tweets/search/recent\"\n",
    "HEADERS = {\"Authorization\": f\"Bearer {BEARER_TOKEN}\"}\n",
    "PARAMS = {\n",
    "    \"query\": \"#stocks\",\n",
    "    \"max_results\": 100,\n",
    "    \"tweet.fields\": \"created_at,author_id,text\"\n",
    "}\n",
    "\n",
    "# Access data from Twitter API\n",
    "try:\n",
    "    twitter_response = access_api_data(TWITTER_API_URL, HEADERS, PARAMS)\n",
    "    tweets = twitter_response.get(\"data\", [])\n",
    "    twitter_data = pd.DataFrame(tweets)\n",
    "    twitter_data.to_csv(\"twitter_api_data.csv\", index=False)\n",
    "except Exception as e:\n",
    "    print(f\"Failed to fetch Twitter data: {e}\")\n",
    "\n",
    "# Example for Telegram API (Using Telethon for Bearer Token-based Access)\n",
    "from telethon.sync import TelegramClient\n",
    "\n",
    "def fetch_telegram_data(api_id, api_hash, token, channel_name, limit=100):\n",
    "    client = TelegramClient(\"session_name\", api_id, api_hash)\n",
    "    with client:\n",
    "        messages = client.get_messages(channel_name, limit=limit)\n",
    "        data = [{\"date\": msg.date, \"sender\": msg.sender_id, \"message\": msg.text} for msg in messages if msg.text]\n",
    "        return pd.DataFrame(data)\n",
    "\n",
    "# Fetch data using Telethon\n",
    "API_ID = \"29732947\"\n",
    "API_HASH = \"YOUR_API_HASH\"\n",
    "CHANNEL_NAME = \"1865578362657230848shub22797\"\n",
    "\n",
    "try:\n",
    "    telegram_data = fetch_telegram_data(API_ID, API_HASH, BEARER_TOKEN, CHANNEL_NAME)\n",
    "    telegram_data.to_csv(\"telegram_api_data.csv\", index=False)\n",
    "except Exception as e:\n",
    "    print(f\"Failed to fetch Telegram data: {e}\")"
   ]
  },
  {
   "cell_type": "code",
   "execution_count": 5,
   "id": "7c90d6e1-7ae0-4b0d-bfd3-c9123f657e35",
   "metadata": {},
   "outputs": [],
   "source": [
    "def preprocess_text(text):\n",
    "    text = re.sub(r\"http\\S+|www\\.\\S+\", \"\", text)  # Remove URLs\n",
    "    text = re.sub(r\"[^a-zA-Z ]\", \"\", text)  # Keep only letters\n",
    "    text = text.lower()  # Convert to lowercase\n",
    "    return text\n",
    "\n",
    "def perform_sentiment_analysis(data, column):\n",
    "    data[column] = data[column].apply(preprocess_text)\n",
    "    data['Sentiment'] = data[column].apply(lambda x: TextBlob(x).sentiment.polarity)\n",
    "    return data\n",
    "\n",
    "# Example Usage\n",
    "processed_data = perform_sentiment_analysis(twitter_data, \"text\")\n",
    "processed_data.to_csv(\"processed_sentiment_data.csv\", index=False)"
   ]
  },
  {
   "cell_type": "code",
   "execution_count": 6,
   "id": "895fe7cc-fc6f-425e-ba4b-78534ad9d047",
   "metadata": {},
   "outputs": [
    {
     "name": "stdout",
     "output_type": "stream",
     "text": [
      "Accuracy: 0.95\n",
      "              precision    recall  f1-score   support\n",
      "\n",
      "           0       0.67      1.00      0.80         2\n",
      "           1       1.00      0.94      0.97        18\n",
      "\n",
      "    accuracy                           0.95        20\n",
      "   macro avg       0.83      0.97      0.89        20\n",
      "weighted avg       0.97      0.95      0.95        20\n",
      "\n"
     ]
    }
   ],
   "source": [
    "# Feature Extraction\n",
    "vectorizer = CountVectorizer(max_features=1000)\n",
    "X = vectorizer.fit_transform(processed_data['text']).toarray()\n",
    "\n",
    "# Target Variable\n",
    "processed_data['Label'] = processed_data['Sentiment'].apply(lambda x: 1 if x > 0 else 0)\n",
    "y = processed_data['Label']\n",
    "\n",
    "# Train-Test Split\n",
    "X_train, X_test, y_train, y_test = train_test_split(X, y, test_size=0.2, random_state=42)\n",
    "\n",
    "# Model Training\n",
    "model = RandomForestClassifier()\n",
    "model.fit(X_train, y_train)\n",
    "\n",
    "# Model Evaluation\n",
    "y_pred = model.predict(X_test)\n",
    "print(\"Accuracy:\", accuracy_score(y_test, y_pred))\n",
    "print(classification_report(y_test, y_pred))"
   ]
  },
  {
   "cell_type": "code",
   "execution_count": 7,
   "id": "9fd0142e-3799-49d0-896d-c86c9b00263b",
   "metadata": {},
   "outputs": [
    {
     "name": "stdout",
     "output_type": "stream",
     "text": [
      "Negative\n"
     ]
    }
   ],
   "source": [
    "def predict_stock_movement(text):\n",
    "    text_processed = preprocess_text(text)\n",
    "    features = vectorizer.transform([text_processed]).toarray()\n",
    "    prediction = model.predict(features)\n",
    "    return \"Positive\" if prediction[0] == 1 else \"Negative\"\n",
    "\n",
    "# Example Prediction\n",
    "print(predict_stock_movement(\"This stock is performing exceptionally well!\"))"
   ]
  },
  {
   "cell_type": "code",
   "execution_count": null,
   "id": "5bb8e2dd-b1d2-4456-9488-55dbb2f6ef7b",
   "metadata": {},
   "outputs": [],
   "source": []
  }
 ],
 "metadata": {
  "kernelspec": {
   "display_name": "Python 3 (ipykernel)",
   "language": "python",
   "name": "python3"
  },
  "language_info": {
   "codemirror_mode": {
    "name": "ipython",
    "version": 3
   },
   "file_extension": ".py",
   "mimetype": "text/x-python",
   "name": "python",
   "nbconvert_exporter": "python",
   "pygments_lexer": "ipython3",
   "version": "3.12.6"
  }
 },
 "nbformat": 4,
 "nbformat_minor": 5
}
